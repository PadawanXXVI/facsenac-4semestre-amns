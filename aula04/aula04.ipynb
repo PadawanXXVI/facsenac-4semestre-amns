{
 "cells": [
  {
   "cell_type": "markdown",
   "id": "4cf26ecb",
   "metadata": {},
   "source": [
    "Faculdade de Tecnologia e Inovação Senac DF  \n",
    "Brasília, 25 de agosto de 2025  \n",
    "Anderson de Matos Guimarães  \n",
    "Ciência de Dados - 4º Semestre  \n",
    "Disciplina: Aprendizado de Máquina Não Supervisionado  \n",
    "Professor: Rogério Gomes Lopes\n"
   ]
  },
  {
   "cell_type": "markdown",
   "id": "aaa91c55",
   "metadata": {},
   "source": [
    "# AULA 04 - Agrupamentos (Algoritmos PArticionais)\n",
    "\n",
    "Grupo/cluster é um conceito subjetivo\n",
    "\n",
    "\n",
    "## Particionamento combinatório\n",
    "\n",
    "## Tipos de algoritmos de agrupamento\n",
    "\n",
    "- Hierárquico\n",
    "- Particionais\n",
    "- Densidade\n",
    "\n",
    "### Algoritmos particionais\n",
    "\n",
    "K-means\n",
    "\n",
    "- escolher k centroides\n",
    "- atribuir cada objeto para o cluster do centróide mais próximo\n",
    "- atualiza a posição do centróide como média dos elementos do grupo\n",
    "- tem convergência?\n",
    "    - não -> atribuir cada objeto para o cluster do centróide mais próximo\n",
    "    - sim -> clusters atribuídos\n",
    "\n",
    "Obs.:  \n",
    "Distância euclidiana para determinar a distância entre os pontos.\n"
   ]
  }
 ],
 "metadata": {
  "language_info": {
   "name": "python"
  }
 },
 "nbformat": 4,
 "nbformat_minor": 5
}
