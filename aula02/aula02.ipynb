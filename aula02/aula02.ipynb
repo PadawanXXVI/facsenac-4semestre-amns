{
 "cells": [
  {
   "cell_type": "markdown",
   "id": "4cf26ecb",
   "metadata": {},
   "source": [
    "Faculdade de Tecnologia e Inovação Senac DF  \n",
    "Brasília, 11 de agosto de 2025  \n",
    "Anderson de Matos Guimarães  \n",
    "Ciência de Dados - 4º Semestre  \n",
    "Disciplina: Aprendizado de Máquina Não Supervisionado  \n",
    "Professor: Rogério Gomes Lopes\n"
   ]
  },
  {
   "cell_type": "markdown",
   "id": "aaa91c55",
   "metadata": {},
   "source": [
    "# AULA 01 - \n"
   ]
  }
 ],
 "metadata": {
  "language_info": {
   "name": "python"
  }
 },
 "nbformat": 4,
 "nbformat_minor": 5
}
